{
 "cells": [
  {
   "cell_type": "markdown",
   "id": "9c0e1bb4-2c5d-46d3-ba4d-b3bbcf0470e7",
   "metadata": {},
   "source": [
    "1.3"
   ]
  },
  {
   "cell_type": "code",
   "execution_count": 3,
   "id": "7bf8c4ed-070a-43c9-8e3e-a02af6ecba67",
   "metadata": {},
   "outputs": [
    {
     "data": {
      "text/plain": [
       "'17:34:12'"
      ]
     },
     "execution_count": 3,
     "metadata": {},
     "output_type": "execute_result"
    }
   ],
   "source": [
    "seconds_past_midnight = 63252\n",
    "\n",
    "hr, mn = 3600, 60\n",
    "\n",
    "str(seconds_past_midnight // hr) + ':' + str((seconds_past_midnight % hr) // mn) + ':' + str(((seconds_past_midnight % hr) % mn))"
   ]
  },
  {
   "cell_type": "markdown",
   "id": "756f4248-eac8-4fbb-b84f-771d60ce5991",
   "metadata": {},
   "source": [
    "1.4"
   ]
  },
  {
   "cell_type": "markdown",
   "id": "60c04ea3-e2ce-43ab-9a68-8e9c84d0a6c7",
   "metadata": {},
   "source": [
    "a)"
   ]
  },
  {
   "cell_type": "code",
   "execution_count": 6,
   "id": "b9d32205-a554-40a1-be55-f7d8b7c23b18",
   "metadata": {},
   "outputs": [
    {
     "data": {
      "text/plain": [
       "'TGCAACTGC'"
      ]
     },
     "execution_count": 6,
     "metadata": {},
     "output_type": "execute_result"
    }
   ],
   "source": [
    "def complement_base(base):\n",
    "    \"\"\"Returns the Watson-Crick complement of a base.\"\"\"\n",
    "    if base in 'Aa':\n",
    "        return 'T'\n",
    "    elif base in 'Tt':\n",
    "        return 'A'\n",
    "    elif base in 'Gg':\n",
    "        return 'C'\n",
    "    else:\n",
    "        return 'G'\n",
    "\n",
    "\n",
    "def reverse_complement(seq):\n",
    "    \"\"\"Compute reverse complement of a sequence.\"\"\"\n",
    "    # Initialize reverse complement\n",
    "    rev_seq = ''\n",
    "\n",
    "    # Loop through and populate list with reverse complement\n",
    "    for base in seq[::-1]:\n",
    "        rev_seq += complement_base(base)\n",
    "\n",
    "    return rev_seq\n",
    "\n",
    "reverse_complement('GCAGTTGCA')"
   ]
  },
  {
   "cell_type": "markdown",
   "id": "4f76eaa2-73b6-46d4-8f21-55d98bb3adb3",
   "metadata": {},
   "source": [
    "b)"
   ]
  },
  {
   "cell_type": "code",
   "execution_count": 8,
   "id": "7eb98d76-c806-4c1b-8b48-fbd25640c28b",
   "metadata": {},
   "outputs": [
    {
     "data": {
      "text/plain": [
       "'TGCAACTGC'"
      ]
     },
     "execution_count": 8,
     "metadata": {},
     "output_type": "execute_result"
    }
   ],
   "source": [
    "def num_to_base(seq):\n",
    "    return seq.replace('1','T').replace('2','A').replace('3','C').replace('4','G')\n",
    "\n",
    "def reverse_complement_2(seq):\n",
    "    \"\"\"Compute reverse complement of a sequence.\"\"\"\n",
    "    return num_to_base(seq.replace('A','1').replace('a','1').replace('T','2').replace('t','2').replace('G','3').replace('g','3').replace('C','4').replace('c','4'))[::-1]\n",
    "\n",
    "reverse_complement_2('GCAGTTGCA')"
   ]
  },
  {
   "cell_type": "markdown",
   "id": "12c56980-3c99-4159-9ce9-c68962e5f42b",
   "metadata": {},
   "source": [
    "1.5"
   ]
  },
  {
   "cell_type": "code",
   "execution_count": 11,
   "id": "7c9d5b50-1247-4b54-86aa-a82fee0faf08",
   "metadata": {},
   "outputs": [],
   "source": [
    "def longest_common_substring(s1, s2):\n",
    "    lcs = []\n",
    "    for i in range(len(s1)):\n",
    "        cur = []\n",
    "        for j in range(len(s2)):\n",
    "            cur.append('')\n",
    "        lcs.append(cur)\n",
    "        \n",
    "    longest, ir, jr = 0, 0, 0\n",
    "    for i in range(len(s1)):\n",
    "        for j in range(len(s2)):\n",
    "            if s1[i] == s2[j]:\n",
    "                if i == 0 or j == 0:\n",
    "                    lcs[i][j] = s1[i]\n",
    "                else:\n",
    "                    lcs[i][j] = lcs[i-1][j-1] + s1[i]\n",
    "                if len(lcs[i][j]) > longest:\n",
    "                    longest, ir, jr = len(lcs[i][j]), i, j\n",
    "    return lcs[ir][jr]"
   ]
  },
  {
   "cell_type": "code",
   "execution_count": 12,
   "id": "5a825fda-4766-46ad-bb3f-3053d40603fa",
   "metadata": {},
   "outputs": [
    {
     "data": {
      "text/plain": [
       "'ATGC'"
      ]
     },
     "execution_count": 12,
     "metadata": {},
     "output_type": "execute_result"
    }
   ],
   "source": [
    "longest_common_substring('ATGC', 'ATGCA')"
   ]
  },
  {
   "cell_type": "code",
   "execution_count": 13,
   "id": "68cf117a-5e69-4453-a598-4a4a91f97041",
   "metadata": {},
   "outputs": [
    {
     "data": {
      "text/plain": [
       "'ATGCC'"
      ]
     },
     "execution_count": 13,
     "metadata": {},
     "output_type": "execute_result"
    }
   ],
   "source": [
    "longest_common_substring('GATGCCATGCA', 'ATGCC')"
   ]
  },
  {
   "cell_type": "code",
   "execution_count": 14,
   "id": "ee574023-6d28-4c9a-ac9f-3d25985a1e22",
   "metadata": {},
   "outputs": [
    {
     "data": {
      "text/plain": [
       "'ACGT'"
      ]
     },
     "execution_count": 14,
     "metadata": {},
     "output_type": "execute_result"
    }
   ],
   "source": [
    "longest_common_substring('ACGTGGAAAGCCA', 'GTACACACGTTTTGAGAGACAC')"
   ]
  },
  {
   "cell_type": "markdown",
   "id": "7b0cfe74-6379-4dec-8797-368a3c500ca1",
   "metadata": {},
   "source": [
    "1.6"
   ]
  },
  {
   "cell_type": "code",
   "execution_count": 27,
   "id": "7d4a86bc-b123-4bdc-9506-25518b15e2e8",
   "metadata": {},
   "outputs": [],
   "source": [
    "def valid_parens(s):\n",
    "    return s.count('(') == s.count(')')\n",
    "\n",
    "def dotparen_to_bp(s):\n",
    "    bps, stack = [], []\n",
    "    for i in range(len(s)):\n",
    "        if s[i] == '(':\n",
    "            stack.append(i)\n",
    "        elif s[i] == ')':\n",
    "            try:\n",
    "                bps.append((stack.pop(),i))\n",
    "            except:\n",
    "                raise ValueError('Bad Structure')\n",
    "    if stack != []:\n",
    "        print(stack)\n",
    "        raise ValueError('Bad Structure')\n",
    "    return bps\n",
    "\n",
    "def valid_hairpins(bps):\n",
    "    for i, j in bps:\n",
    "        if abs(i - j) <= 3:\n",
    "            return False\n",
    "    return True\n",
    "\n",
    "def rna_ss_validator(seq, sec_struc, wobble=True):\n",
    "    bps = dotparen_to_bp(sec_struc)\n",
    "    if not valid_parens(sec_struc) or not valid_hairpins(bps):\n",
    "        return False\n",
    "    valid_pairs = [('A','U'),('U','A'),('C','G'),('G','C')]\n",
    "    if wobble:\n",
    "        valid_pairs.extend([('G','U'),('U','G')])\n",
    "    for i, j in bps:\n",
    "        if (seq[i],seq[j]) not in valid_pairs:\n",
    "            return False\n",
    "    return True"
   ]
  },
  {
   "cell_type": "code",
   "execution_count": 28,
   "id": "a886efc4-4073-452c-87e7-03b360b6a8f1",
   "metadata": {},
   "outputs": [
    {
     "name": "stdout",
     "output_type": "stream",
     "text": [
      "True\n",
      "True\n",
      "True\n"
     ]
    }
   ],
   "source": [
    "print(rna_ss_validator('GCAUCUAUGC', '(((....)))'))\n",
    "print(rna_ss_validator('GCAUCUAUGU', '(((....)))'))\n",
    "print(rna_ss_validator('GCAUCUAUGU', '(.(....).)'))"
   ]
  },
  {
   "cell_type": "code",
   "execution_count": 29,
   "id": "d386786f-46ec-46ed-9935-0e8478696b4b",
   "metadata": {},
   "outputs": [
    {
     "name": "stdout",
     "output_type": "stream",
     "text": [
      "False\n",
      "False\n",
      "False\n",
      "False\n"
     ]
    }
   ],
   "source": [
    "print(rna_ss_validator('GCAUCUACGC', '(((....)))'))\n",
    "print(rna_ss_validator('GCAUCUAUGU', '(((....)))', wobble=False))\n",
    "print(rna_ss_validator('GCAUCUAUGU', '(.(....)).'))\n",
    "print(rna_ss_validator('GCCCUUGGCA', '(.((..))).'))"
   ]
  },
  {
   "cell_type": "code",
   "execution_count": null,
   "id": "c7123e51-dcfb-4617-b7e8-3bebb2472504",
   "metadata": {},
   "outputs": [],
   "source": []
  }
 ],
 "metadata": {
  "kernelspec": {
   "display_name": "Python 3 (ipykernel)",
   "language": "python",
   "name": "python3"
  },
  "language_info": {
   "codemirror_mode": {
    "name": "ipython",
    "version": 3
   },
   "file_extension": ".py",
   "mimetype": "text/x-python",
   "name": "python",
   "nbconvert_exporter": "python",
   "pygments_lexer": "ipython3",
   "version": "3.9.12"
  }
 },
 "nbformat": 4,
 "nbformat_minor": 5
}

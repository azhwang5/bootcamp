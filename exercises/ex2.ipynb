{
 "cells": [
  {
   "cell_type": "code",
   "execution_count": 53,
   "id": "64f2c657-9fa5-43a6-a8ac-23c771ea651c",
   "metadata": {},
   "outputs": [],
   "source": [
    "import warnings\n",
    "import bootcamp_utils"
   ]
  },
  {
   "cell_type": "code",
   "execution_count": 54,
   "id": "0ac93971-ade8-47d3-93e6-1da24696021d",
   "metadata": {},
   "outputs": [
    {
     "name": "stdout",
     "output_type": "stream",
     "text": [
      "The Zen of Python, by Tim Peters\n",
      "\n",
      "Beautiful is better than ugly.\n",
      "Explicit is better than implicit.\n",
      "Simple is better than complex.\n",
      "Complex is better than complicated.\n",
      "Flat is better than nested.\n",
      "Sparse is better than dense.\n",
      "Readability counts.\n",
      "Special cases aren't special enough to break the rules.\n",
      "Although practicality beats purity.\n",
      "Errors should never pass silently.\n",
      "Unless explicitly silenced.\n",
      "In the face of ambiguity, refuse the temptation to guess.\n",
      "There should be one-- and preferably only one --obvious way to do it.\n",
      "Although that way may not be obvious at first unless you're Dutch.\n",
      "Now is better than never.\n",
      "Although never is often better than *right* now.\n",
      "If the implementation is hard to explain, it's a bad idea.\n",
      "If the implementation is easy to explain, it may be a good idea.\n",
      "Namespaces are one honking great idea -- let's do more of those!\n"
     ]
    }
   ],
   "source": [
    "import this"
   ]
  },
  {
   "cell_type": "markdown",
   "id": "cdebec70-33ee-4c53-954f-77e416c47d09",
   "metadata": {},
   "source": [
    "2.1"
   ]
  },
  {
   "cell_type": "code",
   "execution_count": null,
   "id": "634ab93a-9a9d-4fce-83ec-750629315df7",
   "metadata": {},
   "outputs": [],
   "source": [
    "with open('/Users/alexanderwang/git/bootcamp/data/salmonella_spi1_region.fna', 'r') as f:\n",
    "    print(f.readlines())"
   ]
  },
  {
   "cell_type": "code",
   "execution_count": 23,
   "id": "7b9e7f37-41cc-4183-805e-32a3a0c2b99d",
   "metadata": {},
   "outputs": [],
   "source": [
    "def read_fasta(file_name):\n",
    "    with open(file_name, 'r') as f:\n",
    "        lines = f.readlines()\n",
    "        desc, seq = lines[0].rstrip(), ''.join([s.rstrip() for s in lines[1:]])\n",
    "    return desc, seq"
   ]
  },
  {
   "cell_type": "code",
   "execution_count": 40,
   "id": "f7734b6f-c90d-46d2-97b9-bd8641bcd928",
   "metadata": {},
   "outputs": [],
   "source": [
    "salmonella_desc, salmonella_seq = read_fasta('/Users/alexanderwang/git/bootcamp/data/salmonella_spi1_region.fna')"
   ]
  },
  {
   "cell_type": "markdown",
   "id": "c9f7d81b-bd39-4648-9bd3-04195c7b8c19",
   "metadata": {},
   "source": [
    "2.2"
   ]
  },
  {
   "cell_type": "code",
   "execution_count": 5,
   "id": "8b2ec489-e25d-4650-a1ab-388940b9eabb",
   "metadata": {},
   "outputs": [],
   "source": [
    "lambda_desc, lambda_seq = read_fasta('lambdafsa.txt')"
   ]
  },
  {
   "cell_type": "code",
   "execution_count": 19,
   "id": "aba29a9a-3fab-4a98-87b5-9a835752bfe2",
   "metadata": {},
   "outputs": [],
   "source": [
    "def restriction_sites(seq, recog_seq):\n",
    "    sites = []\n",
    "    prev = seq.find(recog_seq)\n",
    "    while prev != -1:\n",
    "        sites.append(prev)\n",
    "        prev = seq.find(recog_seq, prev + 1)\n",
    "    return sites"
   ]
  },
  {
   "cell_type": "code",
   "execution_count": 22,
   "id": "20ace384-ae68-4c74-8a66-6c67b021d5ea",
   "metadata": {},
   "outputs": [
    {
     "name": "stdout",
     "output_type": "stream",
     "text": [
      "AAGCTT: [23129, 25156, 27478, 36894, 37458, 37583, 44140]\n",
      "GAATTC: [21225, 26103, 31746, 39167, 44971]\n",
      "GGTACC: [17052, 18555]\n"
     ]
    }
   ],
   "source": [
    "print('AAGCTT: ' + str(restriction_sites(lambda_seq, 'AAGCTT')))\n",
    "print('GAATTC: ' + str(restriction_sites(lambda_seq, 'GAATTC')))\n",
    "print('GGTACC: ' + str(restriction_sites(lambda_seq, 'GGTACC')))"
   ]
  },
  {
   "cell_type": "code",
   "execution_count": 67,
   "id": "cc148aac-ec5c-40ff-a433-6fddd8b03e10",
   "metadata": {},
   "outputs": [
    {
     "data": {
      "text/plain": [
       "48502"
      ]
     },
     "execution_count": 67,
     "metadata": {},
     "output_type": "execute_result"
    }
   ],
   "source": [
    "len(lambda_seq)"
   ]
  },
  {
   "cell_type": "markdown",
   "id": "0cb40a3e-12d9-4bb1-a783-9e73a549121f",
   "metadata": {},
   "source": [
    "2.3"
   ]
  },
  {
   "cell_type": "code",
   "execution_count": 31,
   "id": "23362927-30d4-47b8-8628-0e8725f9aa31",
   "metadata": {},
   "outputs": [],
   "source": [
    "def gc_content(seq):\n",
    "    return (seq.count('G') + seq.count('g') + seq.count('C') + seq.count('c')) / len(seq)\n",
    "\n",
    "def gc_blocks(seq, block_size):\n",
    "    gcs = []\n",
    "    while len(seq) > block_size:\n",
    "        gcs.append(gc_content(seq[:block_size]))\n",
    "        seq = seq[block_size:]\n",
    "    return tuple(gcs)"
   ]
  },
  {
   "cell_type": "code",
   "execution_count": 32,
   "id": "9f933fca-1528-4423-a63d-df050cac4e92",
   "metadata": {},
   "outputs": [
    {
     "data": {
      "text/plain": [
       "(0.25, 0.5)"
      ]
     },
     "execution_count": 32,
     "metadata": {},
     "output_type": "execute_result"
    }
   ],
   "source": [
    "gc_blocks(seq = 'ATGACTACGT', block_size = 4)"
   ]
  },
  {
   "cell_type": "code",
   "execution_count": 38,
   "id": "fbb0333f-5b81-40b8-bda3-ce5d504bf51f",
   "metadata": {},
   "outputs": [],
   "source": [
    "def gc_map(seq, block_size, gc_thresh):\n",
    "    gcb = gc_blocks(seq, block_size)\n",
    "    seq_acc, it = '', 0\n",
    "    for b in gcb:\n",
    "        if b >= gc_thresh:\n",
    "            seq_acc += seq[it:it + block_size].upper()\n",
    "        else:\n",
    "            seq_acc += seq[it:it + block_size].lower()\n",
    "        it += block_size\n",
    "    return seq_acc"
   ]
  },
  {
   "cell_type": "code",
   "execution_count": 39,
   "id": "4fc20c9e-f5e6-4b1e-8e38-45c9705e92f9",
   "metadata": {},
   "outputs": [
    {
     "data": {
      "text/plain": [
       "'atgaCTAC'"
      ]
     },
     "execution_count": 39,
     "metadata": {},
     "output_type": "execute_result"
    }
   ],
   "source": [
    "gc_map('ATGACTACGT', 4, 0.4)"
   ]
  },
  {
   "cell_type": "code",
   "execution_count": 41,
   "id": "337999e5-b6b8-4657-af89-f69d2d7e4d6e",
   "metadata": {},
   "outputs": [],
   "source": [
    "salmonella_gc_map = gc_map(seq = salmonella_seq, block_size = 1000, gc_thresh = 0.45)"
   ]
  },
  {
   "cell_type": "code",
   "execution_count": null,
   "id": "a39f398b-2cd1-430e-ba4d-7a8699656203",
   "metadata": {},
   "outputs": [],
   "source": [
    "salmonella_gc_map"
   ]
  },
  {
   "cell_type": "code",
   "execution_count": 45,
   "id": "55061c71-e1cb-4a3d-8b81-1566dad633b9",
   "metadata": {},
   "outputs": [],
   "source": [
    "LINE_LENGTH = 60\n",
    "temp_seq = salmonella_gc_map\n",
    "with open('salmonella_gc_map.fasta','w') as out:\n",
    "    out.write(salmonella_desc + '\\n')\n",
    "    while len(temp_seq) > LINE_LENGTH:\n",
    "        out.write(temp_seq[:LINE_LENGTH] + '\\n')\n",
    "        temp_seq = temp_seq[LINE_LENGTH:]\n",
    "    out.write(temp_seq)"
   ]
  },
  {
   "cell_type": "markdown",
   "id": "53e4b9be-61e3-45e3-9319-4d61992447b7",
   "metadata": {},
   "source": [
    "2.4"
   ]
  },
  {
   "cell_type": "code",
   "execution_count": 80,
   "id": "2fdafad3-2b7e-463d-b1da-00af68abd113",
   "metadata": {},
   "outputs": [],
   "source": [
    "def longest_orf(seq):\n",
    "    start_codon = 'ATG'\n",
    "    stop_codons = ['TGA', 'TAG', 'TAA']\n",
    "    cur_atg, cur_max_start, cur_max_length, it = -1, 0, 0, 0\n",
    "    while it < len(seq) - 2:\n",
    "        if cur_atg == -1 and seq[it:it + 3] == start_codon:\n",
    "            cur_atg = it\n",
    "        if cur_atg != -1 and seq[it:it + 3] in stop_codons:\n",
    "            if it + 3 - cur_atg > cur_max_length:\n",
    "                cur_max_start, cur_max_length = cur_atg, it + 3 - cur_atg\n",
    "            cur_atg = -1\n",
    "        if cur_atg != -1:\n",
    "            it += 2\n",
    "        it += 1\n",
    "    return seq[cur_max_start : cur_max_start + cur_max_length - 3]"
   ]
  },
  {
   "cell_type": "code",
   "execution_count": 48,
   "id": "f6e6b563-cc5a-4454-954a-f911b12b9517",
   "metadata": {},
   "outputs": [
    {
     "data": {
      "text/plain": [
       "'ATGATGATGTAA'"
      ]
     },
     "execution_count": 48,
     "metadata": {},
     "output_type": "execute_result"
    }
   ],
   "source": [
    "longest_orf('GGATGATGATGTAAAAC')"
   ]
  },
  {
   "cell_type": "code",
   "execution_count": 51,
   "id": "9895e3f8-3464-48aa-ba0b-02c7cb1a3434",
   "metadata": {},
   "outputs": [
    {
     "data": {
      "text/plain": [
       "'ATGACCAACTACAGCCTGCGCGCACGCATGATGATTCTGATCCTGGCCCCGACCGTCCTGATAGGTTTGCTGCTCAGTATCTTTTTTGTAGTGCACCGCTATAACGACCTGCAGCGTCAACTGGAAGATGCCGGCGCCAGTATTATTGAACCGCTCGCCGTCTCCAGCGAATATGGTATGAACTTACAAAACCGGGAGTCTATCGGCCAACTTATCAGCGTCCTGCACCGCAGACACTCTGATATTGTGCGGGCGATTTCCGTTTATGACGATCATAACCGTCTGTTTGTAACGTCTAATTTCCATCTGGACCCCTCACAGATGCAGCTTCCCGCCGGAGCGCCGTTTCCACGTCGTCTGAGCGTTGATCGCCACGGCGATATTATGATTCTGCGCACCCCAATTATCTCGGAGAGCTATTCGCCGGACGAGTCAGCGATTGCTGACGCGAAAAATACCAAAAATATGCTGGGGTATGTGGCGCTTGAACTGGATCTCAAGTCGGTCAGGCTACAGCAATACAAAGAGATTTTTATCTCCAGCGTGATGATGCTTTTTTGTATTGGCATTGCGCTGATCTTTGGCTGGCGGCTTATGCGCGATGTCACCGGGCCTATCCGTAATATGGTGAATACCGTTGACCGCATTCGCCGCGGACAACTGGATAGCCGGGTGGAAGGATTTATGCTGGGCGAACTGGATATGCTGAAAAACGGCATTAATTCCATGGCGATGTCGCTTGCCGCCTATCACGAAGAGATGCAGCATAATATCGATCAGGCCACTTCGGACCTGCGTGAAACCCTTGAGCAGATGGAAATCCAAAACGTTGAGCTGGATCTGGCGAAAAAGCGTGCCCAGGAAGCGGCGCGTATTAAGTCGGAGTTCCTGGCGAACATGTCGCACGAACTGCGAACGCCGCTGAACGGCGTCATTGGCTTTACCCGCCTGACATTAAAAACGGAGCTGAATCCCACCCAGCGCGACCATCTGAACACCATTGAGCGTTCCGCGAATAATCTGCTGGCGATCATTAATGACGTGCTTGATTTCTCCAAGCTGGAAGCCGGTAAGCTCATTCTGGAAAGTATCCCTTTTCCACTGCGTAATACGCTGGATGAAGTGGTTACGCTGCTGGCTCACTCGTCGCATGATAAAGGGCTGGAGTTGACGTTAAATATTAAAAACGACGTCCCGGATAATGTGATTGGCGACCCGCTGCGCCTGCAACAGGTCATTACTAATCTGGTGGGTAATGCCATTAAGTTCACCGAGAGTGGCAATATCGACATTCTGGTAGAAAAGCGGGCGCTCAGTAACACCAAAGTACAGATTGAAGTGCAGATCCGCGATACGGGGATCGGCATTCCGGAACGCGACCAGTCGCGACTGTTTCAGGCGTTTCGCCAGGCCGATGCCAGTATTTCTCGCCGTCACGGCGGCACCGGGCTTGGGCTGGTGATTACGCAAAAGCTGGTCAACGAAATGGGCGGGGATATCTCTTTCCACAGCCAGCCTAATCGCGGCTCGACCTTCTGGTTTCATATTAATCTTGATCTTAACCCAAATGTCATTATTGACGGGCCGTCGACCGCGTGTCTGGCCGGGAAACGGCTGGCTTATGTCGAACCGAATGCTACCGCCGCGCAATGTACCCTGGATCTACTGAGCGACACGCCGGTGGAGGTGGTTTACAGCCCGACCTTCTCCGCGCTGCCGTTAGCGCACTACGATATTATGATTTTGAGCGTTCCGGTGACCTTCCGCGAGCCGCTCACCATGCAGCATGAACGTCTGGCGAAAGCAGCGTCAATGACGGACTTTCTACTGCTGGCGCTACCTTGCCATGCGCAAATTAACGCCGAAAAGCTGAAACAAGGAGGCGCGGCGGCCTGTCTGTTAAAACCATTGACGTCAACGCGCCTGTTGCCAGCGCTGACGGAATATTGCCAGTTGAATCACCATCCTGAACCGCTGCTAATGGATACCAGTAAAATCACCATGACGGTTATGGCGGTTGATGATAATCCCGCTAATCTGAAGCTTATCGGCGCGTTACTGGAAGATAAAGTCCAGCACGTAGAGCTTTGTGATAGCGGACATCAGGCGGTGGATCGGGCGAAACAAATGCAGTTTGATCTGATTTTGATGGATATTCAGATGCCGGATATGGACGGCATACGCGCCTGCGAATTGATTCACCAGCTTCCTCATCAGCAGCAAACACCGGTTATTGCCGTTACGGCACATGCGATGGCCGGGCAAAAAGAGAAGTTGCTCAGCGCGGGCATGAACGACTATCTGGCTAAACCGATAGAAGAAGAGAAGTTGCATAATCTGTTGCTGCGCTATAAACCTGGCGCCAACGTAGCAGCGCGCCTGATGGCGCCGGAACCAGCTGAATTTATCTTCAATCCGAATGCAACGCTCGACTGGCAGCTTGCGCTCCGCCAGGCTGCCGGTAAGCCCGATCTGGCGCGGGATATGCTGCAAATGCTGATTGATTTTCTGCCGGAAGTGCGCAACAAAATTGAAGAACAACTGGTGGGAGAAAATCCCAACGGCCTGGTCGATCTGGTCCATAAGCTACACGGGAGCTGCGGCTATAGCGGCGTACCGCGGATGAAGAACCTTTGCCAGCTTATTGAGCAACAGCTTCGCAGCGGCGTCCACGAAGAGGAGCTGGAGCCTGAGTTTCTGGAGCTGCTGGATGAGATGGATAATGTCGCGCGTGAAGCGAAGAAGATATTAGGCTGA'"
      ]
     },
     "execution_count": 51,
     "metadata": {},
     "output_type": "execute_result"
    }
   ],
   "source": [
    "salmonella_orf = longest_orf(salmonella_seq)\n",
    "salmonella_orf"
   ]
  },
  {
   "cell_type": "code",
   "execution_count": 56,
   "id": "52331b38-d106-4ffb-9724-33b82270e846",
   "metadata": {},
   "outputs": [
    {
     "data": {
      "text/plain": [
       "'AUGAUGAUGUAA'"
      ]
     },
     "execution_count": 56,
     "metadata": {},
     "output_type": "execute_result"
    }
   ],
   "source": [
    "bootcamp_utils.dna_to_rna(longest_orf('GGATGATGATGTAAAAC'))"
   ]
  },
  {
   "cell_type": "code",
   "execution_count": 62,
   "id": "8751b4ca-67c0-4199-9284-d9714149f8c4",
   "metadata": {},
   "outputs": [],
   "source": [
    "def seq_to_protein(seq):\n",
    "    it = 0\n",
    "    protein_acc = ''\n",
    "    while it < len(seq) - 2:\n",
    "        protein_acc += bootcamp_utils.codons[seq[it:it+3]]\n",
    "        it += 3\n",
    "    return protein_acc"
   ]
  },
  {
   "cell_type": "code",
   "execution_count": 65,
   "id": "037dceaa-9467-472f-80ed-1cd3e7637b89",
   "metadata": {},
   "outputs": [
    {
     "data": {
      "text/plain": [
       "'ATGATGATGTAA'"
      ]
     },
     "execution_count": 65,
     "metadata": {},
     "output_type": "execute_result"
    }
   ],
   "source": [
    "longest_orf('GGATGATGATGTAAAAC')"
   ]
  },
  {
   "cell_type": "code",
   "execution_count": 63,
   "id": "380ccec5-a294-4606-be9b-7fba1d83f6dc",
   "metadata": {},
   "outputs": [
    {
     "data": {
      "text/plain": [
       "'MMM*'"
      ]
     },
     "execution_count": 63,
     "metadata": {},
     "output_type": "execute_result"
    }
   ],
   "source": [
    "seq_to_protein(longest_orf('GGATGATGATGTAAAAC'))"
   ]
  },
  {
   "cell_type": "code",
   "execution_count": 66,
   "id": "099826ae-0da8-4970-9ca2-5d69a5867137",
   "metadata": {},
   "outputs": [
    {
     "data": {
      "text/plain": [
       "'MTNYSLRARMMILILAPTVLIGLLLSIFFVVHRYNDLQRQLEDAGASIIEPLAVSSEYGMNLQNRESIGQLISVLHRRHSDIVRAISVYDDHNRLFVTSNFHLDPSQMQLPAGAPFPRRLSVDRHGDIMILRTPIISESYSPDESAIADAKNTKNMLGYVALELDLKSVRLQQYKEIFISSVMMLFCIGIALIFGWRLMRDVTGPIRNMVNTVDRIRRGQLDSRVEGFMLGELDMLKNGINSMAMSLAAYHEEMQHNIDQATSDLRETLEQMEIQNVELDLAKKRAQEAARIKSEFLANMSHELRTPLNGVIGFTRLTLKTELNPTQRDHLNTIERSANNLLAIINDVLDFSKLEAGKLILESIPFPLRNTLDEVVTLLAHSSHDKGLELTLNIKNDVPDNVIGDPLRLQQVITNLVGNAIKFTESGNIDILVEKRALSNTKVQIEVQIRDTGIGIPERDQSRLFQAFRQADASISRRHGGTGLGLVITQKLVNEMGGDISFHSQPNRGSTFWFHINLDLNPNVIIDGPSTACLAGKRLAYVEPNATAAQCTLDLLSDTPVEVVYSPTFSALPLAHYDIMILSVPVTFREPLTMQHERLAKAASMTDFLLLALPCHAQINAEKLKQGGAAACLLKPLTSTRLLPALTEYCQLNHHPEPLLMDTSKITMTVMAVDDNPANLKLIGALLEDKVQHVELCDSGHQAVDRAKQMQFDLILMDIQMPDMDGIRACELIHQLPHQQQTPVIAVTAHAMAGQKEKLLSAGMNDYLAKPIEEEKLHNLLLRYKPGANVAARLMAPEPAEFIFNPNATLDWQLALRQAAGKPDLARDMLQMLIDFLPEVRNKIEEQLVGENPNGLVDLVHKLHGSCGYSGVPRMKNLCQLIEQQLRSGVHEEELEPEFLELLDEMDNVAREAKKILG*'"
      ]
     },
     "execution_count": 66,
     "metadata": {},
     "output_type": "execute_result"
    }
   ],
   "source": [
    "seq_to_protein(salmonella_orf)"
   ]
  },
  {
   "cell_type": "code",
   "execution_count": 81,
   "id": "b66a17f2-1b97-4d1c-8ad6-e2cac7403d81",
   "metadata": {},
   "outputs": [],
   "source": [
    "def n_longest_orf(seq, n=5):\n",
    "    start_codon = 'ATG'\n",
    "    stop_codons = ['TGA', 'TAG', 'TAA']\n",
    "    cur_atg, cur_maxes, it = -1, [], 0\n",
    "    for i in range(n):\n",
    "        cur_maxes.append((0,0))\n",
    "    while it < len(seq) - 2:\n",
    "        if cur_atg == -1 and seq[it:it + 3] == start_codon:\n",
    "            cur_atg = it\n",
    "        if cur_atg != -1 and seq[it:it + 3] in stop_codons:\n",
    "            if it + 3 - cur_atg > min(cur_maxes[0]):\n",
    "                cur_maxes.remove(min(cur_maxes))\n",
    "                cur_maxes.append((it + 3 - cur_atg, cur_atg))\n",
    "            cur_atg = -1\n",
    "        if cur_atg != -1:\n",
    "            it += 2\n",
    "        it += 1\n",
    "    seqs = []\n",
    "    for size, s in cur_maxes:\n",
    "        seqs.append(seq[s : s + size - 3])\n",
    "    return seqs"
   ]
  },
  {
   "cell_type": "code",
   "execution_count": 82,
   "id": "89d98a1c-5e7e-47c8-bbe7-b5c19544d5d5",
   "metadata": {},
   "outputs": [
    {
     "name": "stdout",
     "output_type": "stream",
     "text": [
      "MSYTPMSDLGQQGLFDITRTLLQQPDLASLSEALSQLVKRSALADSAGIVLWQAQSQRAQYYATRENGRPVEYEDETVLAHGPVRRILSRPDALHCNFHEFTETWPQLAASGLYPEFGHYCLLPLAAEGRIFGGCEFIRQEDRPWSEKEYDRLHTFTQIVGVVAEQIQNRVNNNVDYDLLCRERDNFRILVAITNAVLSRLDIDELVSEVAKEIHHYFNIDAISIVLRSHRKNKLNIYSTHYLDEHHPAHEQSEVDEAGTLTERVFKSKEMLLINLNERDPLAPYERMLFDTWGNQIQTLCLLPLMSGKTMLGVLKLAQCEEKVFTTANLKLLRQIAERVAIAVDNALAYQEIHRLKERLVDENLALTEQLNNVDSEFGEIIGRSEAMYNVLKQVEMVAQSDSTVLILGETGTGKELIARAIHNLSGRSGRRMVKMNCAAMPAGLLESDLFGHERGAFTGASAQRIGRFELADKSSLFLDEVGDMPLELQPKLLRVLQEQEFERLGSNKLIQTDVRLIAATNRDLKKMVADREFRNDLYYRLNVFPIQLPPLRERPEDIPLLVKAFTFKIARRMGRNIDSIPAETLRTLSSMEWPGNVRELENVVERAVLLTRGNVLQLSLPDITAVTPDTSPVATESAKEGEDEYQLIIRVLKETNGVVAGPKGAAQRLGLKRTTLLSRMKRLGIDKDALA\n",
      "\n",
      "MPHFNPVPVSNKKFVFDDFILNMDGSLLRSEKKVNIPPKEYAVLVILLEAAGEIVSKNTLLDQVWGDAEVNEESLTRCIYALRRILSEDKEHRYIETLYGQGYRFNRPVVVVSPPAPQPTTHTLAILPFQMQDQVQSESLHYSIVKGLSQYAPFGLSVLPVTITKNCRSVKDILELMDQLRPDYYISGQMIPDGNDNIVQIEIVRVKGYHLLHQESIKLIEHQPASLLQNKIANLLLRCIPGLRWDTKQISELNSIDSTMVYLRGKHELNQYTPYSLQQALKLLTQCVNMSPNSIAPYCALAECYLSMAQMGIFDKQNAMIKAKEHAIKATELDHNNPQALGLLGLINTIHSEYIVGSLLFKQANLLSPISADIKYYYGWNLFMAGQLEEALQTINECLKLDPTRAAAGITKLWITYYHTGIDDAIRLGDELRSQHLQDNPILLSMQVMFLSLKGKHELARKLTKEISTQEITGLIAVNLLYAEYCQNSERALPTIREFLESEQRIDNNPGLLPLVLVAHGEAIAEKMWNKFKNEDNIWFKRWKQDPRLIKLR\n",
      "\n",
      "MNESFDKDFSNHTPMMQQYLKLKAQHPEILLFYRMGDFYELFYDDAKRASQLLDISLTKRGASAGEPIPMAGIPHHAVENYLAKLVNQGESVAICEQIGDPATSKGPVERKVVRIVTPGTISDEALLQERQDNLLAAIWQDGKGYGYATLDISSGRFRLSEPADRETMAAELQRTNPAELLYAEDFAEMALIEGRRGLRRRPLWEFEIDTARQQLNLQFGTRDLVGFGVENASRGLCAAGCLLQYVKDTQRTSLPHIRSITMERQQDSIIMDAATRRNLEITQNLAGGVENTLAAVLDCTVTPMGSRMLKRWLHMPVRNTDILRERQQTIGALQDTVSELQPVLRQVGDLERILARLALRTARPRDLARMRHAFQQLPELHAQLETVDSAPVQALRKKMGDFAELRDLLERAIIDAPPVLVRDGGVIAPGYHEELDEWRALADGATDYLDRLEIRERERTGLDTLKVGYNAVHGYYIQISRGQSHLAPINYVRRQTLKNAERYIIPELKEYEDKVLTSKGKALALEKQLYDELFDLLLPHLADLQQSANALAELDVLVNLAERAWTLNYTCPTFTDKPGIRITEGRHPVVEQVLNEPFIANPLNLSPQRRMLIITGPNMGGKSTYMRQTALIALLAYIGSYVPAQNVEIGPIDRIFTRVGAADDLASGRSTFMVEMTETANILHNATENSLVLMDEIGRGTSTYDGLSLAWACAENLANKIKALTLFATHYFELTQLPEKMEGVANVHLDALEHGDTIAFMHSVQDGAASKSYGLAVAALAGVPKEVIKRARQKLRELESISPNAAATQVDGTQMSLLAAPEETSPAVEALENLDPDSLTPRQALEWIYRLKSLV\n",
      "\n",
      "MTNYSLRARMMILILAPTVLIGLLLSIFFVVHRYNDLQRQLEDAGASIIEPLAVSSEYGMNLQNRESIGQLISVLHRRHSDIVRAISVYDDHNRLFVTSNFHLDPSQMQLPAGAPFPRRLSVDRHGDIMILRTPIISESYSPDESAIADAKNTKNMLGYVALELDLKSVRLQQYKEIFISSVMMLFCIGIALIFGWRLMRDVTGPIRNMVNTVDRIRRGQLDSRVEGFMLGELDMLKNGINSMAMSLAAYHEEMQHNIDQATSDLRETLEQMEIQNVELDLAKKRAQEAARIKSEFLANMSHELRTPLNGVIGFTRLTLKTELNPTQRDHLNTIERSANNLLAIINDVLDFSKLEAGKLILESIPFPLRNTLDEVVTLLAHSSHDKGLELTLNIKNDVPDNVIGDPLRLQQVITNLVGNAIKFTESGNIDILVEKRALSNTKVQIEVQIRDTGIGIPERDQSRLFQAFRQADASISRRHGGTGLGLVITQKLVNEMGGDISFHSQPNRGSTFWFHINLDLNPNVIIDGPSTACLAGKRLAYVEPNATAAQCTLDLLSDTPVEVVYSPTFSALPLAHYDIMILSVPVTFREPLTMQHERLAKAASMTDFLLLALPCHAQINAEKLKQGGAAACLLKPLTSTRLLPALTEYCQLNHHPEPLLMDTSKITMTVMAVDDNPANLKLIGALLEDKVQHVELCDSGHQAVDRAKQMQFDLILMDIQMPDMDGIRACELIHQLPHQQQTPVIAVTAHAMAGQKEKLLSAGMNDYLAKPIEEEKLHNLLLRYKPGANVAARLMAPEPAEFIFNPNATLDWQLALRQAAGKPDLARDMLQMLIDFLPEVRNKIEEQLVGENPNGLVDLVHKLHGSCGYSGVPRMKNLCQLIEQQLRSGVHEEELEPEFLELLDEMDNVAREAKKILG\n",
      "\n",
      "MKKISLPKIGIRPVIDGRRMGVRESLEEQTMNMAKATAALITEKIRHACGAQVECVIADTCIAGMAESAACEEKFSSQNVGVTITVTPCWCYGSETIDMDPMRPKAIWGFNGTERPGAVYLAAALAAHSQKGIPAFSIYGHDVQDADDTSIPADVEEKLLRFARAGLAVASMKGKSYLSVGGVSMGIAGSIVDHNFFESWLGMKVQAVDMTELRRRIDQKIYDEAELEMALAWADKNFRYGEDQNASQYKRNEAQNRAVLKESLLMAMCIRDMMQGNKTLADKGLVEESLGYNAIAAGFQGQRHWTDQYPNGDTAEALLNSSFDWNGVREPFVVATENDSLNGVAMLFGHQLTGTAQIFADVRTYWSPEAVERVTGQALSGLAEHGIIHLINSGSAALDGACKQRDSEGKPTMKPHWEISQQEADACLAATEWCPAIHEYFRGGGYSSRFLTEGGVPFTMTRVNIIKGLGPVLQIAEGWSVELPKAMHDQLDARTNSTWPTTWFAPRLTGKGPFTDVYSVMANWGANHGVLTIGHVGADFITLAAMLRIPVCMHNVEEAKIYRPSAWAAHGMDIEGQDYRACQNYGPLYKR\n",
      "\n"
     ]
    }
   ],
   "source": [
    "for s in n_longest_orf(salmonella_seq):\n",
    "    print(seq_to_protein(s))\n",
    "    print()"
   ]
  },
  {
   "cell_type": "code",
   "execution_count": null,
   "id": "e7f909b8-4e2b-4c80-abf0-2c8cdfa1a7a3",
   "metadata": {},
   "outputs": [],
   "source": []
  }
 ],
 "metadata": {
  "kernelspec": {
   "display_name": "Python 3 (ipykernel)",
   "language": "python",
   "name": "python3"
  },
  "language_info": {
   "codemirror_mode": {
    "name": "ipython",
    "version": 3
   },
   "file_extension": ".py",
   "mimetype": "text/x-python",
   "name": "python",
   "nbconvert_exporter": "python",
   "pygments_lexer": "ipython3",
   "version": "3.9.12"
  }
 },
 "nbformat": 4,
 "nbformat_minor": 5
}
